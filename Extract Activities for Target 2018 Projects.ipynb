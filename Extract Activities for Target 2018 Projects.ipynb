{
 "cells": [
  {
   "cell_type": "code",
   "execution_count": 4,
   "metadata": {},
   "outputs": [],
   "source": [
    "import pandas as pd\n",
    "import matplotlib.pyplot as plt\n",
    "from datetime import date, datetime\n",
    "\n",
    "%matplotlib inline"
   ]
  },
  {
   "cell_type": "code",
   "execution_count": 10,
   "metadata": {},
   "outputs": [],
   "source": [
    "path = '../../HD2/2018/data/'"
   ]
  },
  {
   "cell_type": "markdown",
   "metadata": {},
   "source": [
    "Filter projects to have only relevant ones for 2018"
   ]
  },
  {
   "cell_type": "code",
   "execution_count": 2,
   "metadata": {},
   "outputs": [
    {
     "data": {
      "text/html": [
       "<div>\n",
       "<style scoped>\n",
       "    .dataframe tbody tr th:only-of-type {\n",
       "        vertical-align: middle;\n",
       "    }\n",
       "\n",
       "    .dataframe tbody tr th {\n",
       "        vertical-align: top;\n",
       "    }\n",
       "\n",
       "    .dataframe thead th {\n",
       "        text-align: right;\n",
       "    }\n",
       "</style>\n",
       "<table border=\"1\" class=\"dataframe\">\n",
       "  <thead>\n",
       "    <tr style=\"text-align: right;\">\n",
       "      <th></th>\n",
       "      <th>id_project</th>\n",
       "      <th>name</th>\n",
       "      <th>created_at</th>\n",
       "      <th>size</th>\n",
       "      <th>watchers_count</th>\n",
       "      <th>stars</th>\n",
       "      <th>description</th>\n",
       "      <th>url</th>\n",
       "    </tr>\n",
       "  </thead>\n",
       "  <tbody>\n",
       "    <tr>\n",
       "      <th>0</th>\n",
       "      <td>177736533</td>\n",
       "      <td>996icu/996.ICU</td>\n",
       "      <td>2019-03-26 07:31:14</td>\n",
       "      <td>183401</td>\n",
       "      <td>247585</td>\n",
       "      <td>247585</td>\n",
       "      <td>b'Repo for counting stars and contributing. Pr...</td>\n",
       "      <td>https://github.com/996icu/996.ICU</td>\n",
       "    </tr>\n",
       "    <tr>\n",
       "      <th>1</th>\n",
       "      <td>85077558</td>\n",
       "      <td>kamranahmedse/developer-roadmap</td>\n",
       "      <td>2017-03-15 13:45:52</td>\n",
       "      <td>23724</td>\n",
       "      <td>89556</td>\n",
       "      <td>89556</td>\n",
       "      <td>b'Roadmap to becoming a web developer in 2019'</td>\n",
       "      <td>https://github.com/kamranahmedse/developer-roa...</td>\n",
       "    </tr>\n",
       "    <tr>\n",
       "      <th>2</th>\n",
       "      <td>121395510</td>\n",
       "      <td>CyC2018/CS-Notes</td>\n",
       "      <td>2018-02-13 14:56:24</td>\n",
       "      <td>107593</td>\n",
       "      <td>81447</td>\n",
       "      <td>81447</td>\n",
       "      <td>b':books: Tech Interview Guide \\xe6\\x8a\\x80\\xe...</td>\n",
       "      <td>https://github.com/CyC2018/CS-Notes</td>\n",
       "    </tr>\n",
       "    <tr>\n",
       "      <th>3</th>\n",
       "      <td>83222441</td>\n",
       "      <td>donnemartin/system-design-primer</td>\n",
       "      <td>2017-02-26 16:15:28</td>\n",
       "      <td>4339</td>\n",
       "      <td>75512</td>\n",
       "      <td>75512</td>\n",
       "      <td>b'Learn how to design large-scale systems. Pre...</td>\n",
       "      <td>https://github.com/donnemartin/system-design-p...</td>\n",
       "    </tr>\n",
       "    <tr>\n",
       "      <th>4</th>\n",
       "      <td>123458551</td>\n",
       "      <td>jackfrued/Python-100-Days</td>\n",
       "      <td>2018-03-01 16:05:52</td>\n",
       "      <td>199006</td>\n",
       "      <td>65994</td>\n",
       "      <td>65994</td>\n",
       "      <td>b'Python - 100\\xe5\\xa4\\xa9\\xe4\\xbb\\x8e\\xe6\\x96...</td>\n",
       "      <td>https://github.com/jackfrued/Python-100-Days</td>\n",
       "    </tr>\n",
       "  </tbody>\n",
       "</table>\n",
       "</div>"
      ],
      "text/plain": [
       "   id_project                              name          created_at    size  \\\n",
       "0   177736533                    996icu/996.ICU 2019-03-26 07:31:14  183401   \n",
       "1    85077558   kamranahmedse/developer-roadmap 2017-03-15 13:45:52   23724   \n",
       "2   121395510                  CyC2018/CS-Notes 2018-02-13 14:56:24  107593   \n",
       "3    83222441  donnemartin/system-design-primer 2017-02-26 16:15:28    4339   \n",
       "4   123458551         jackfrued/Python-100-Days 2018-03-01 16:05:52  199006   \n",
       "\n",
       "   watchers_count   stars                                        description  \\\n",
       "0          247585  247585  b'Repo for counting stars and contributing. Pr...   \n",
       "1           89556   89556     b'Roadmap to becoming a web developer in 2019'   \n",
       "2           81447   81447  b':books: Tech Interview Guide \\xe6\\x8a\\x80\\xe...   \n",
       "3           75512   75512  b'Learn how to design large-scale systems. Pre...   \n",
       "4           65994   65994  b'Python - 100\\xe5\\xa4\\xa9\\xe4\\xbb\\x8e\\xe6\\x96...   \n",
       "\n",
       "                                                 url  \n",
       "0                  https://github.com/996icu/996.ICU  \n",
       "1  https://github.com/kamranahmedse/developer-roa...  \n",
       "2                https://github.com/CyC2018/CS-Notes  \n",
       "3  https://github.com/donnemartin/system-design-p...  \n",
       "4       https://github.com/jackfrued/Python-100-Days  "
      ]
     },
     "execution_count": 2,
     "metadata": {},
     "output_type": "execute_result"
    }
   ],
   "source": [
    "projects = pd.read_csv('2018_top_projects.csv', parse_dates=['created_at'])\n",
    "projects.head()"
   ]
  },
  {
   "cell_type": "code",
   "execution_count": 3,
   "metadata": {},
   "outputs": [
    {
     "data": {
      "text/plain": [
       "(882, 8)"
      ]
     },
     "execution_count": 3,
     "metadata": {},
     "output_type": "execute_result"
    }
   ],
   "source": [
    "projects.shape"
   ]
  },
  {
   "cell_type": "code",
   "execution_count": 18,
   "metadata": {},
   "outputs": [],
   "source": [
    "target = projects[projects['created_at'] < datetime(2018, 1, 1)]"
   ]
  },
  {
   "cell_type": "code",
   "execution_count": 6,
   "metadata": {},
   "outputs": [
    {
     "data": {
      "text/plain": [
       "(460, 8)"
      ]
     },
     "execution_count": 6,
     "metadata": {},
     "output_type": "execute_result"
    }
   ],
   "source": [
    "target.shape"
   ]
  },
  {
   "cell_type": "code",
   "execution_count": 19,
   "metadata": {},
   "outputs": [],
   "source": [
    "target = target.iloc[:400]"
   ]
  },
  {
   "cell_type": "code",
   "execution_count": 26,
   "metadata": {},
   "outputs": [],
   "source": [
    "target.to_csv('target_p_2018.csv', index=None)"
   ]
  },
  {
   "cell_type": "markdown",
   "metadata": {},
   "source": [
    "Get all the activities for each month for all the target projects"
   ]
  },
  {
   "cell_type": "code",
   "execution_count": 31,
   "metadata": {},
   "outputs": [],
   "source": [
    "outdata = pd.DataFrame()\n",
    "for month in ['01', '02', '03', '04', '05', '06', '07', '08', '09', '10', '11', '12']:\n",
    "    mdf = pd.read_csv(path + 'activity_2018_{}.csv'.format(month), header=None)\n",
    "    mdf.columns = ['source', 'target', 'event', 'created_at']\n",
    "    tgta = mdf[mdf['target'].isin(target.id_project)]\n",
    "    outdata = pd.concat([outdata, tgta])"
   ]
  },
  {
   "cell_type": "code",
   "execution_count": 32,
   "metadata": {},
   "outputs": [
    {
     "data": {
      "text/html": [
       "<div>\n",
       "<style scoped>\n",
       "    .dataframe tbody tr th:only-of-type {\n",
       "        vertical-align: middle;\n",
       "    }\n",
       "\n",
       "    .dataframe tbody tr th {\n",
       "        vertical-align: top;\n",
       "    }\n",
       "\n",
       "    .dataframe thead th {\n",
       "        text-align: right;\n",
       "    }\n",
       "</style>\n",
       "<table border=\"1\" class=\"dataframe\">\n",
       "  <thead>\n",
       "    <tr style=\"text-align: right;\">\n",
       "      <th></th>\n",
       "      <th>source</th>\n",
       "      <th>target</th>\n",
       "      <th>event</th>\n",
       "      <th>created_at</th>\n",
       "    </tr>\n",
       "  </thead>\n",
       "  <tbody>\n",
       "    <tr>\n",
       "      <th>3</th>\n",
       "      <td>34407843</td>\n",
       "      <td>94911145</td>\n",
       "      <td>WatchEvent</td>\n",
       "      <td>2018-01-09T03:00:00Z</td>\n",
       "    </tr>\n",
       "    <tr>\n",
       "      <th>126</th>\n",
       "      <td>20942571</td>\n",
       "      <td>103645588</td>\n",
       "      <td>PushEvent</td>\n",
       "      <td>2018-01-09T03:00:08Z</td>\n",
       "    </tr>\n",
       "    <tr>\n",
       "      <th>417</th>\n",
       "      <td>30802089</td>\n",
       "      <td>101394335</td>\n",
       "      <td>IssueCommentEvent</td>\n",
       "      <td>2018-01-09T03:00:23Z</td>\n",
       "    </tr>\n",
       "    <tr>\n",
       "      <th>509</th>\n",
       "      <td>34146419</td>\n",
       "      <td>88111990</td>\n",
       "      <td>ForkEvent</td>\n",
       "      <td>2018-01-09T03:00:28Z</td>\n",
       "    </tr>\n",
       "    <tr>\n",
       "      <th>574</th>\n",
       "      <td>1789</td>\n",
       "      <td>113402414</td>\n",
       "      <td>WatchEvent</td>\n",
       "      <td>2018-01-09T03:00:32Z</td>\n",
       "    </tr>\n",
       "  </tbody>\n",
       "</table>\n",
       "</div>"
      ],
      "text/plain": [
       "       source     target              event            created_at\n",
       "3    34407843   94911145         WatchEvent  2018-01-09T03:00:00Z\n",
       "126  20942571  103645588          PushEvent  2018-01-09T03:00:08Z\n",
       "417  30802089  101394335  IssueCommentEvent  2018-01-09T03:00:23Z\n",
       "509  34146419   88111990          ForkEvent  2018-01-09T03:00:28Z\n",
       "574      1789  113402414         WatchEvent  2018-01-09T03:00:32Z"
      ]
     },
     "execution_count": 32,
     "metadata": {},
     "output_type": "execute_result"
    }
   ],
   "source": [
    "outdata.head()"
   ]
  },
  {
   "cell_type": "code",
   "execution_count": 33,
   "metadata": {},
   "outputs": [
    {
     "data": {
      "text/plain": [
       "(2747941, 4)"
      ]
     },
     "execution_count": 33,
     "metadata": {},
     "output_type": "execute_result"
    }
   ],
   "source": [
    "outdata.shape"
   ]
  },
  {
   "cell_type": "code",
   "execution_count": 34,
   "metadata": {},
   "outputs": [],
   "source": [
    "outdata.to_csv('target_a_2018.csv', index=None)"
   ]
  },
  {
   "cell_type": "code",
   "execution_count": null,
   "metadata": {},
   "outputs": [],
   "source": []
  }
 ],
 "metadata": {
  "kernelspec": {
   "display_name": "Python 3",
   "language": "python",
   "name": "python3"
  },
  "language_info": {
   "codemirror_mode": {
    "name": "ipython",
    "version": 3
   },
   "file_extension": ".py",
   "mimetype": "text/x-python",
   "name": "python",
   "nbconvert_exporter": "python",
   "pygments_lexer": "ipython3",
   "version": "3.7.3"
  }
 },
 "nbformat": 4,
 "nbformat_minor": 2
}
