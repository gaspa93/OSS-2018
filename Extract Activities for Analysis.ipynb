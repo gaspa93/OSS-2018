{
 "cells": [
  {
   "cell_type": "code",
   "execution_count": 29,
   "metadata": {},
   "outputs": [],
   "source": [
    "import pandas as pd\n",
    "import matplotlib.pyplot as plt\n",
    "from datetime import date, datetime\n",
    "import random\n",
    "\n",
    "%matplotlib inline"
   ]
  },
  {
   "cell_type": "code",
   "execution_count": 2,
   "metadata": {},
   "outputs": [],
   "source": [
    "path = '../../HD2/2018/data/'"
   ]
  },
  {
   "cell_type": "markdown",
   "metadata": {},
   "source": [
    "## TOP 2018 Projects"
   ]
  },
  {
   "cell_type": "code",
   "execution_count": 3,
   "metadata": {},
   "outputs": [
    {
     "data": {
      "text/html": [
       "<div>\n",
       "<style scoped>\n",
       "    .dataframe tbody tr th:only-of-type {\n",
       "        vertical-align: middle;\n",
       "    }\n",
       "\n",
       "    .dataframe tbody tr th {\n",
       "        vertical-align: top;\n",
       "    }\n",
       "\n",
       "    .dataframe thead th {\n",
       "        text-align: right;\n",
       "    }\n",
       "</style>\n",
       "<table border=\"1\" class=\"dataframe\">\n",
       "  <thead>\n",
       "    <tr style=\"text-align: right;\">\n",
       "      <th></th>\n",
       "      <th>id_project</th>\n",
       "      <th>name</th>\n",
       "      <th>created_at</th>\n",
       "      <th>size</th>\n",
       "      <th>watchers_count</th>\n",
       "      <th>stars</th>\n",
       "      <th>description</th>\n",
       "      <th>url</th>\n",
       "    </tr>\n",
       "  </thead>\n",
       "  <tbody>\n",
       "    <tr>\n",
       "      <th>0</th>\n",
       "      <td>177736533</td>\n",
       "      <td>996icu/996.ICU</td>\n",
       "      <td>2019-03-26 07:31:14</td>\n",
       "      <td>183401</td>\n",
       "      <td>247585</td>\n",
       "      <td>247585</td>\n",
       "      <td>b'Repo for counting stars and contributing. Pr...</td>\n",
       "      <td>https://github.com/996icu/996.ICU</td>\n",
       "    </tr>\n",
       "    <tr>\n",
       "      <th>1</th>\n",
       "      <td>85077558</td>\n",
       "      <td>kamranahmedse/developer-roadmap</td>\n",
       "      <td>2017-03-15 13:45:52</td>\n",
       "      <td>23724</td>\n",
       "      <td>89556</td>\n",
       "      <td>89556</td>\n",
       "      <td>b'Roadmap to becoming a web developer in 2019'</td>\n",
       "      <td>https://github.com/kamranahmedse/developer-roa...</td>\n",
       "    </tr>\n",
       "    <tr>\n",
       "      <th>2</th>\n",
       "      <td>121395510</td>\n",
       "      <td>CyC2018/CS-Notes</td>\n",
       "      <td>2018-02-13 14:56:24</td>\n",
       "      <td>107593</td>\n",
       "      <td>81447</td>\n",
       "      <td>81447</td>\n",
       "      <td>b':books: Tech Interview Guide \\xe6\\x8a\\x80\\xe...</td>\n",
       "      <td>https://github.com/CyC2018/CS-Notes</td>\n",
       "    </tr>\n",
       "    <tr>\n",
       "      <th>3</th>\n",
       "      <td>83222441</td>\n",
       "      <td>donnemartin/system-design-primer</td>\n",
       "      <td>2017-02-26 16:15:28</td>\n",
       "      <td>4339</td>\n",
       "      <td>75512</td>\n",
       "      <td>75512</td>\n",
       "      <td>b'Learn how to design large-scale systems. Pre...</td>\n",
       "      <td>https://github.com/donnemartin/system-design-p...</td>\n",
       "    </tr>\n",
       "    <tr>\n",
       "      <th>4</th>\n",
       "      <td>123458551</td>\n",
       "      <td>jackfrued/Python-100-Days</td>\n",
       "      <td>2018-03-01 16:05:52</td>\n",
       "      <td>199006</td>\n",
       "      <td>65994</td>\n",
       "      <td>65994</td>\n",
       "      <td>b'Python - 100\\xe5\\xa4\\xa9\\xe4\\xbb\\x8e\\xe6\\x96...</td>\n",
       "      <td>https://github.com/jackfrued/Python-100-Days</td>\n",
       "    </tr>\n",
       "  </tbody>\n",
       "</table>\n",
       "</div>"
      ],
      "text/plain": [
       "   id_project                              name          created_at    size  \\\n",
       "0   177736533                    996icu/996.ICU 2019-03-26 07:31:14  183401   \n",
       "1    85077558   kamranahmedse/developer-roadmap 2017-03-15 13:45:52   23724   \n",
       "2   121395510                  CyC2018/CS-Notes 2018-02-13 14:56:24  107593   \n",
       "3    83222441  donnemartin/system-design-primer 2017-02-26 16:15:28    4339   \n",
       "4   123458551         jackfrued/Python-100-Days 2018-03-01 16:05:52  199006   \n",
       "\n",
       "   watchers_count   stars                                        description  \\\n",
       "0          247585  247585  b'Repo for counting stars and contributing. Pr...   \n",
       "1           89556   89556     b'Roadmap to becoming a web developer in 2019'   \n",
       "2           81447   81447  b':books: Tech Interview Guide \\xe6\\x8a\\x80\\xe...   \n",
       "3           75512   75512  b'Learn how to design large-scale systems. Pre...   \n",
       "4           65994   65994  b'Python - 100\\xe5\\xa4\\xa9\\xe4\\xbb\\x8e\\xe6\\x96...   \n",
       "\n",
       "                                                 url  \n",
       "0                  https://github.com/996icu/996.ICU  \n",
       "1  https://github.com/kamranahmedse/developer-roa...  \n",
       "2                https://github.com/CyC2018/CS-Notes  \n",
       "3  https://github.com/donnemartin/system-design-p...  \n",
       "4       https://github.com/jackfrued/Python-100-Days  "
      ]
     },
     "execution_count": 3,
     "metadata": {},
     "output_type": "execute_result"
    }
   ],
   "source": [
    "projects = pd.read_csv('2018_top_projects.csv', parse_dates=['created_at'])\n",
    "projects.head()"
   ]
  },
  {
   "cell_type": "code",
   "execution_count": 4,
   "metadata": {},
   "outputs": [
    {
     "data": {
      "text/plain": [
       "(1392, 8)"
      ]
     },
     "execution_count": 4,
     "metadata": {},
     "output_type": "execute_result"
    }
   ],
   "source": [
    "projects.shape"
   ]
  },
  {
   "cell_type": "code",
   "execution_count": 5,
   "metadata": {},
   "outputs": [
    {
     "data": {
      "text/plain": [
       "363"
      ]
     },
     "execution_count": 5,
     "metadata": {},
     "output_type": "execute_result"
    }
   ],
   "source": [
    "projects.stars.min()"
   ]
  },
  {
   "cell_type": "code",
   "execution_count": 6,
   "metadata": {},
   "outputs": [],
   "source": [
    "target = projects[projects['created_at'] < datetime(2018, 1, 1)]"
   ]
  },
  {
   "cell_type": "code",
   "execution_count": 7,
   "metadata": {},
   "outputs": [
    {
     "data": {
      "text/plain": [
       "(863, 8)"
      ]
     },
     "execution_count": 7,
     "metadata": {},
     "output_type": "execute_result"
    }
   ],
   "source": [
    "target.shape"
   ]
  },
  {
   "cell_type": "code",
   "execution_count": 8,
   "metadata": {},
   "outputs": [],
   "source": [
    "target = target.iloc[:500]"
   ]
  },
  {
   "cell_type": "code",
   "execution_count": 13,
   "metadata": {},
   "outputs": [
    {
     "data": {
      "text/html": [
       "<div>\n",
       "<style scoped>\n",
       "    .dataframe tbody tr th:only-of-type {\n",
       "        vertical-align: middle;\n",
       "    }\n",
       "\n",
       "    .dataframe tbody tr th {\n",
       "        vertical-align: top;\n",
       "    }\n",
       "\n",
       "    .dataframe thead th {\n",
       "        text-align: right;\n",
       "    }\n",
       "</style>\n",
       "<table border=\"1\" class=\"dataframe\">\n",
       "  <thead>\n",
       "    <tr style=\"text-align: right;\">\n",
       "      <th></th>\n",
       "      <th>stars</th>\n",
       "      <th>size</th>\n",
       "    </tr>\n",
       "  </thead>\n",
       "  <tbody>\n",
       "    <tr>\n",
       "      <th>count</th>\n",
       "      <td>500.000000</td>\n",
       "      <td>5.000000e+02</td>\n",
       "    </tr>\n",
       "    <tr>\n",
       "      <th>mean</th>\n",
       "      <td>8536.640000</td>\n",
       "      <td>5.871216e+04</td>\n",
       "    </tr>\n",
       "    <tr>\n",
       "      <th>std</th>\n",
       "      <td>8365.924607</td>\n",
       "      <td>2.839837e+05</td>\n",
       "    </tr>\n",
       "    <tr>\n",
       "      <th>min</th>\n",
       "      <td>888.000000</td>\n",
       "      <td>1.000000e+01</td>\n",
       "    </tr>\n",
       "    <tr>\n",
       "      <th>25%</th>\n",
       "      <td>4567.250000</td>\n",
       "      <td>1.204750e+03</td>\n",
       "    </tr>\n",
       "    <tr>\n",
       "      <th>50%</th>\n",
       "      <td>6175.000000</td>\n",
       "      <td>6.854000e+03</td>\n",
       "    </tr>\n",
       "    <tr>\n",
       "      <th>75%</th>\n",
       "      <td>9223.250000</td>\n",
       "      <td>2.926925e+04</td>\n",
       "    </tr>\n",
       "    <tr>\n",
       "      <th>max</th>\n",
       "      <td>89556.000000</td>\n",
       "      <td>5.658142e+06</td>\n",
       "    </tr>\n",
       "  </tbody>\n",
       "</table>\n",
       "</div>"
      ],
      "text/plain": [
       "              stars          size\n",
       "count    500.000000  5.000000e+02\n",
       "mean    8536.640000  5.871216e+04\n",
       "std     8365.924607  2.839837e+05\n",
       "min      888.000000  1.000000e+01\n",
       "25%     4567.250000  1.204750e+03\n",
       "50%     6175.000000  6.854000e+03\n",
       "75%     9223.250000  2.926925e+04\n",
       "max    89556.000000  5.658142e+06"
      ]
     },
     "execution_count": 13,
     "metadata": {},
     "output_type": "execute_result"
    }
   ],
   "source": [
    "target[['stars', 'size']].describe()"
   ]
  },
  {
   "cell_type": "code",
   "execution_count": 17,
   "metadata": {},
   "outputs": [
    {
     "data": {
      "text/plain": [
       "<matplotlib.axes._subplots.AxesSubplot at 0x7f2c89da2320>"
      ]
     },
     "execution_count": 17,
     "metadata": {},
     "output_type": "execute_result"
    },
    {
     "data": {
      "image/png": "[encoded data removed]",
      "text/plain": [
       "<Figure size 432x288 with 1 Axes>"
      ]
     },
     "metadata": {
      "needs_background": "light"
     },
     "output_type": "display_data"
    }
   ],
   "source": [
    "target.set_index('created_at').groupby(pd.Grouper(freq='M'))[['id_project']].count().plot.bar()"
   ]
  },
  {
   "cell_type": "code",
   "execution_count": 14,
   "metadata": {},
   "outputs": [],
   "source": [
    "target.to_csv('target_p_2018.csv', index=None)"
   ]
  },
  {
   "cell_type": "markdown",
   "metadata": {},
   "source": [
    "Get all the activities for each month for all the target projects"
   ]
  },
  {
   "cell_type": "code",
   "execution_count": 18,
   "metadata": {},
   "outputs": [],
   "source": [
    "outdata = pd.DataFrame()\n",
    "for month in ['01', '02', '03', '04', '05', '06', '07', '08', '09', '10', '11', '12']:\n",
    "    mdf = pd.read_csv(path + 'activity_2018_{}.csv'.format(month), header=None)\n",
    "    mdf.columns = ['source', 'target', 'event', 'created_at']\n",
    "    tgta = mdf[mdf['target'].isin(target.id_project)]\n",
    "    outdata = pd.concat([outdata, tgta])"
   ]
  },
  {
   "cell_type": "code",
   "execution_count": 19,
   "metadata": {},
   "outputs": [
    {
     "data": {
      "text/html": [
       "<div>\n",
       "<style scoped>\n",
       "    .dataframe tbody tr th:only-of-type {\n",
       "        vertical-align: middle;\n",
       "    }\n",
       "\n",
       "    .dataframe tbody tr th {\n",
       "        vertical-align: top;\n",
       "    }\n",
       "\n",
       "    .dataframe thead th {\n",
       "        text-align: right;\n",
       "    }\n",
       "</style>\n",
       "<table border=\"1\" class=\"dataframe\">\n",
       "  <thead>\n",
       "    <tr style=\"text-align: right;\">\n",
       "      <th></th>\n",
       "      <th>source</th>\n",
       "      <th>target</th>\n",
       "      <th>event</th>\n",
       "      <th>created_at</th>\n",
       "    </tr>\n",
       "  </thead>\n",
       "  <tbody>\n",
       "    <tr>\n",
       "      <th>3</th>\n",
       "      <td>34407843</td>\n",
       "      <td>94911145</td>\n",
       "      <td>WatchEvent</td>\n",
       "      <td>2018-01-09T03:00:00Z</td>\n",
       "    </tr>\n",
       "    <tr>\n",
       "      <th>126</th>\n",
       "      <td>20942571</td>\n",
       "      <td>103645588</td>\n",
       "      <td>PushEvent</td>\n",
       "      <td>2018-01-09T03:00:08Z</td>\n",
       "    </tr>\n",
       "    <tr>\n",
       "      <th>417</th>\n",
       "      <td>30802089</td>\n",
       "      <td>101394335</td>\n",
       "      <td>IssueCommentEvent</td>\n",
       "      <td>2018-01-09T03:00:23Z</td>\n",
       "    </tr>\n",
       "    <tr>\n",
       "      <th>509</th>\n",
       "      <td>34146419</td>\n",
       "      <td>88111990</td>\n",
       "      <td>ForkEvent</td>\n",
       "      <td>2018-01-09T03:00:28Z</td>\n",
       "    </tr>\n",
       "    <tr>\n",
       "      <th>574</th>\n",
       "      <td>1789</td>\n",
       "      <td>113402414</td>\n",
       "      <td>WatchEvent</td>\n",
       "      <td>2018-01-09T03:00:32Z</td>\n",
       "    </tr>\n",
       "  </tbody>\n",
       "</table>\n",
       "</div>"
      ],
      "text/plain": [
       "       source     target              event            created_at\n",
       "3    34407843   94911145         WatchEvent  2018-01-09T03:00:00Z\n",
       "126  20942571  103645588          PushEvent  2018-01-09T03:00:08Z\n",
       "417  30802089  101394335  IssueCommentEvent  2018-01-09T03:00:23Z\n",
       "509  34146419   88111990          ForkEvent  2018-01-09T03:00:28Z\n",
       "574      1789  113402414         WatchEvent  2018-01-09T03:00:32Z"
      ]
     },
     "execution_count": 19,
     "metadata": {},
     "output_type": "execute_result"
    }
   ],
   "source": [
    "outdata.head()"
   ]
  },
  {
   "cell_type": "code",
   "execution_count": 20,
   "metadata": {},
   "outputs": [
    {
     "data": {
      "text/plain": [
       "(2999985, 4)"
      ]
     },
     "execution_count": 20,
     "metadata": {},
     "output_type": "execute_result"
    }
   ],
   "source": [
    "outdata.shape"
   ]
  },
  {
   "cell_type": "code",
   "execution_count": 21,
   "metadata": {},
   "outputs": [],
   "source": [
    "outdata.to_csv('target_a_2018.csv', index=None)"
   ]
  },
  {
   "cell_type": "markdown",
   "metadata": {},
   "source": [
    "## RANDOM 2018 Projects"
   ]
  },
  {
   "cell_type": "code",
   "execution_count": 24,
   "metadata": {},
   "outputs": [
    {
     "data": {
      "text/plain": [
       "array([ 85077558,  83222441,  90796663, 100060912, 112507086,  88464704,\n",
       "       101296881,  81975372, 107111421, 103633984])"
      ]
     },
     "execution_count": 24,
     "metadata": {},
     "output_type": "execute_result"
    }
   ],
   "source": [
    "top_ids = target.id_project.values\n",
    "top_ids[:10]"
   ]
  },
  {
   "cell_type": "code",
   "execution_count": 25,
   "metadata": {},
   "outputs": [
    {
     "name": "stdout",
     "output_type": "stream",
     "text": [
      "4019885\n"
     ]
    }
   ],
   "source": [
    "# select randomly 500 projects from January dump that are not in the top-500 dataset\n",
    "data = pd.read_csv(path + 'activity_2018_01.csv', header=None)\n",
    "data.columns = ['source', 'target', 'event', 'created_at']\n",
    "\n",
    "projects = data['target'].unique()\n",
    "print(len(projects))"
   ]
  },
  {
   "cell_type": "code",
   "execution_count": 26,
   "metadata": {},
   "outputs": [],
   "source": [
    "projects_no_top = set(projects) - set(top_ids)"
   ]
  },
  {
   "cell_type": "code",
   "execution_count": 27,
   "metadata": {},
   "outputs": [
    {
     "data": {
      "text/plain": [
       "4019400"
      ]
     },
     "execution_count": 27,
     "metadata": {},
     "output_type": "execute_result"
    }
   ],
   "source": [
    "len(projects_no_top)"
   ]
  },
  {
   "cell_type": "code",
   "execution_count": 30,
   "metadata": {},
   "outputs": [],
   "source": [
    "N = 500\n",
    "p_sample = random.sample(population=list(projects_no_top), k=N)"
   ]
  },
  {
   "cell_type": "code",
   "execution_count": 31,
   "metadata": {},
   "outputs": [
    {
     "data": {
      "text/plain": [
       "set()"
      ]
     },
     "execution_count": 31,
     "metadata": {},
     "output_type": "execute_result"
    }
   ],
   "source": [
    "set(p_sample).intersection(set(top_ids))"
   ]
  },
  {
   "cell_type": "code",
   "execution_count": 33,
   "metadata": {},
   "outputs": [],
   "source": [
    "outdata = pd.DataFrame()\n",
    "for month in ['01', '02', '03', '04', '05', '06', '07', '08', '09', '10', '11', '12']:\n",
    "    mdf = pd.read_csv(path + 'activity_2018_{}.csv'.format(month), header=None)\n",
    "    mdf.columns = ['source', 'target', 'event', 'created_at']\n",
    "    tgta = mdf[mdf['target'].isin(p_sample)]\n",
    "    outdata = pd.concat([outdata, tgta])"
   ]
  },
  {
   "cell_type": "code",
   "execution_count": 34,
   "metadata": {},
   "outputs": [
    {
     "data": {
      "text/html": [
       "<div>\n",
       "<style scoped>\n",
       "    .dataframe tbody tr th:only-of-type {\n",
       "        vertical-align: middle;\n",
       "    }\n",
       "\n",
       "    .dataframe tbody tr th {\n",
       "        vertical-align: top;\n",
       "    }\n",
       "\n",
       "    .dataframe thead th {\n",
       "        text-align: right;\n",
       "    }\n",
       "</style>\n",
       "<table border=\"1\" class=\"dataframe\">\n",
       "  <thead>\n",
       "    <tr style=\"text-align: right;\">\n",
       "      <th></th>\n",
       "      <th>source</th>\n",
       "      <th>target</th>\n",
       "      <th>event</th>\n",
       "      <th>created_at</th>\n",
       "    </tr>\n",
       "  </thead>\n",
       "  <tbody>\n",
       "    <tr>\n",
       "      <th>18408</th>\n",
       "      <td>31112174</td>\n",
       "      <td>116623421</td>\n",
       "      <td>PushEvent</td>\n",
       "      <td>2018-01-09T03:20:29Z</td>\n",
       "    </tr>\n",
       "    <tr>\n",
       "      <th>24091</th>\n",
       "      <td>31112174</td>\n",
       "      <td>116623421</td>\n",
       "      <td>PushEvent</td>\n",
       "      <td>2018-01-09T03:27:01Z</td>\n",
       "    </tr>\n",
       "    <tr>\n",
       "      <th>45666</th>\n",
       "      <td>22441396</td>\n",
       "      <td>116756658</td>\n",
       "      <td>PushEvent</td>\n",
       "      <td>2018-01-09T03:53:14Z</td>\n",
       "    </tr>\n",
       "    <tr>\n",
       "      <th>55302</th>\n",
       "      <td>26319209</td>\n",
       "      <td>101191801</td>\n",
       "      <td>PushEvent</td>\n",
       "      <td>2018-01-23T07:04:50Z</td>\n",
       "    </tr>\n",
       "    <tr>\n",
       "      <th>88080</th>\n",
       "      <td>31496399</td>\n",
       "      <td>118575282</td>\n",
       "      <td>CreateEvent</td>\n",
       "      <td>2018-01-23T07:37:58Z</td>\n",
       "    </tr>\n",
       "  </tbody>\n",
       "</table>\n",
       "</div>"
      ],
      "text/plain": [
       "         source     target        event            created_at\n",
       "18408  31112174  116623421    PushEvent  2018-01-09T03:20:29Z\n",
       "24091  31112174  116623421    PushEvent  2018-01-09T03:27:01Z\n",
       "45666  22441396  116756658    PushEvent  2018-01-09T03:53:14Z\n",
       "55302  26319209  101191801    PushEvent  2018-01-23T07:04:50Z\n",
       "88080  31496399  118575282  CreateEvent  2018-01-23T07:37:58Z"
      ]
     },
     "execution_count": 34,
     "metadata": {},
     "output_type": "execute_result"
    }
   ],
   "source": [
    "outdata.head()"
   ]
  },
  {
   "cell_type": "code",
   "execution_count": 37,
   "metadata": {},
   "outputs": [
    {
     "data": {
      "text/plain": [
       "(24795, 4)"
      ]
     },
     "execution_count": 37,
     "metadata": {},
     "output_type": "execute_result"
    }
   ],
   "source": [
    "outdata.shape"
   ]
  },
  {
   "cell_type": "code",
   "execution_count": 35,
   "metadata": {},
   "outputs": [],
   "source": [
    "outdata.to_csv('random_a_2018.csv', index=None)"
   ]
  },
  {
   "cell_type": "code",
   "execution_count": 38,
   "metadata": {},
   "outputs": [],
   "source": [
    "with open('random_p_2018.txt', 'w') as pfile:\n",
    "    pfile.write('\\n'.join([str(x) for x in p_sample]))"
   ]
  },
  {
   "cell_type": "code",
   "execution_count": null,
   "metadata": {},
   "outputs": [],
   "source": []
  }
 ],
 "metadata": {
  "kernelspec": {
   "display_name": "Python 3",
   "language": "python",
   "name": "python3"
  },
  "language_info": {
   "codemirror_mode": {
    "name": "ipython",
    "version": 3
   },
   "file_extension": ".py",
   "mimetype": "text/x-python",
   "name": "python",
   "nbconvert_exporter": "python",
   "pygments_lexer": "ipython3",
   "version": "3.7.3"
  }
 },
 "nbformat": 4,
 "nbformat_minor": 2
}
